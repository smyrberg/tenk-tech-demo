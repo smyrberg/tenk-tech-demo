{
 "cells": [
  {
   "cell_type": "code",
   "execution_count": 3,
   "metadata": {
    "collapsed": true
   },
   "outputs": [],
   "source": [
    "import pandas as pd"
   ]
  },
  {
   "cell_type": "code",
   "execution_count": 12,
   "outputs": [],
   "source": [
    "path_funny = \"funny_1656589367572.csv\"\n",
    "path_viral = \"viral_1656589337023.csv\"\n",
    "path_trending = \"trending_1656589269167.csv\""
   ],
   "metadata": {
    "collapsed": false,
    "pycharm": {
     "name": "#%%\n"
    }
   }
  },
  {
   "cell_type": "code",
   "execution_count": 15,
   "outputs": [],
   "source": [
    "df_funny = pd.read_csv(path_funny)\n",
    "df_viral = pd.read_csv(path_viral)\n",
    "df_trending = pd.read_csv(path_trending)\n",
    "df = pd.concat([df_funny, df_viral, df_trending], ignore_index=True)"
   ],
   "metadata": {
    "collapsed": false,
    "pycharm": {
     "name": "#%%\n"
    }
   }
  },
  {
   "cell_type": "code",
   "execution_count": 19,
   "outputs": [],
   "source": [
    "df.to_csv(\"tiktok_data.csv\", index=False)"
   ],
   "metadata": {
    "collapsed": false,
    "pycharm": {
     "name": "#%%\n"
    }
   }
  },
  {
   "cell_type": "code",
   "execution_count": 18,
   "outputs": [
    {
     "data": {
      "text/plain": "True"
     },
     "execution_count": 18,
     "metadata": {},
     "output_type": "execute_result"
    }
   ],
   "source": [
    "len(df_trending) + len(df_viral) + len(df_funny) == len(df)"
   ],
   "metadata": {
    "collapsed": false,
    "pycharm": {
     "name": "#%%\n"
    }
   }
  },
  {
   "cell_type": "code",
   "execution_count": 20,
   "outputs": [
    {
     "data": {
      "text/plain": "Index(['id', 'secretID', 'text', 'createTime', 'authorMeta.id',\n       'authorMeta.secUid', 'authorMeta.name', 'authorMeta.nickName',\n       'authorMeta.verified', 'authorMeta.signature', 'authorMeta.avatar',\n       'authorMeta.following', 'authorMeta.fans', 'authorMeta.heart',\n       'authorMeta.video', 'authorMeta.digg', 'musicMeta.musicId',\n       'musicMeta.musicName', 'musicMeta.musicAuthor',\n       'musicMeta.musicOriginal', 'musicMeta.musicAlbum', 'musicMeta.playUrl',\n       'musicMeta.coverThumb', 'musicMeta.coverMedium', 'musicMeta.coverLarge',\n       'musicMeta.duration', 'covers.default', 'covers.origin',\n       'covers.dynamic', 'webVideoUrl', 'videoUrl', 'videoUrlNoWaterMark',\n       'videoApiUrlNoWaterMark', 'videoMeta.height', 'videoMeta.width',\n       'videoMeta.duration', 'diggCount', 'shareCount', 'playCount',\n       'commentCount', 'downloaded', 'mentions', 'hashtags', 'effectStickers'],\n      dtype='object')"
     },
     "execution_count": 20,
     "metadata": {},
     "output_type": "execute_result"
    }
   ],
   "source": [
    "df.columns"
   ],
   "metadata": {
    "collapsed": false,
    "pycharm": {
     "name": "#%%\n"
    }
   }
  },
  {
   "cell_type": "code",
   "execution_count": null,
   "outputs": [],
   "source": [],
   "metadata": {
    "collapsed": false,
    "pycharm": {
     "name": "#%%\n"
    }
   }
  }
 ],
 "metadata": {
  "kernelspec": {
   "display_name": "Python 3",
   "language": "python",
   "name": "python3"
  },
  "language_info": {
   "codemirror_mode": {
    "name": "ipython",
    "version": 2
   },
   "file_extension": ".py",
   "mimetype": "text/x-python",
   "name": "python",
   "nbconvert_exporter": "python",
   "pygments_lexer": "ipython2",
   "version": "2.7.6"
  }
 },
 "nbformat": 4,
 "nbformat_minor": 0
}